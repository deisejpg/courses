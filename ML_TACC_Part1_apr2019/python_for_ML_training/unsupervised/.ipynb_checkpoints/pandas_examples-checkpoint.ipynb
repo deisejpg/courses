{
 "cells": [
  {
   "cell_type": "code",
   "execution_count": null,
   "metadata": {},
   "outputs": [],
   "source": [
    "import numpy as np\n",
    "import pandas as pd\n",
    "from pandas import Series, DataFrame"
   ]
  },
  {
   "cell_type": "code",
   "execution_count": null,
   "metadata": {},
   "outputs": [],
   "source": [
    "# create a series\n",
    "test_series = Series([1, 2, 4, -7, -10 , 20])\n",
    "print test_series"
   ]
  },
  {
   "cell_type": "code",
   "execution_count": null,
   "metadata": {},
   "outputs": [],
   "source": [
    "# values\n",
    "print test_series.values"
   ]
  },
  {
   "cell_type": "code",
   "execution_count": null,
   "metadata": {},
   "outputs": [],
   "source": [
    "# index\n",
    "print test_series.index"
   ]
  },
  {
   "cell_type": "code",
   "execution_count": null,
   "metadata": {},
   "outputs": [],
   "source": [
    "# Customize index\n",
    "test_series = Series([1, 2, 4, -7, -10, 20], index=[\"x\", \"y\", \"a\", \"d\", \"e\", \"c\"])\n",
    "print test_series"
   ]
  },
  {
   "cell_type": "code",
   "execution_count": null,
   "metadata": {},
   "outputs": [],
   "source": [
    "# Access with new index\n",
    "print test_series['d']"
   ]
  },
  {
   "cell_type": "code",
   "execution_count": null,
   "metadata": {},
   "outputs": [],
   "source": [
    "# Slice with index\n",
    "print test_series[['x', 'd', 'e']]"
   ]
  },
  {
   "cell_type": "code",
   "execution_count": null,
   "metadata": {},
   "outputs": [],
   "source": [
    "# all numpy operations will preserve the index-to-value relationship\n",
    "test_series*2"
   ]
  },
  {
   "cell_type": "code",
   "execution_count": null,
   "metadata": {},
   "outputs": [],
   "source": [
    "# Using a dictionary to create a series with indexes from keys:values\n",
    "test_dictionary = dict({\"one\":1, \"two\":2, \"three\":3, \"four\":4})\n",
    "test_series = Series(test_dictionary)\n",
    "#Keys in sorted order\n",
    "print test_series"
   ]
  },
  {
   "cell_type": "code",
   "execution_count": null,
   "metadata": {},
   "outputs": [],
   "source": [
    "#data with null/NA values\n",
    "test_index = [\"one\", \"two\", \"three\", \"four\", \"five\"]\n",
    "test_series = Series(test_dictionary, index=test_index)\n",
    "print test_series"
   ]
  },
  {
   "cell_type": "code",
   "execution_count": null,
   "metadata": {},
   "outputs": [],
   "source": [
    "#detect NaN with isnull(), notnull() pandas methods\n",
    "pd.isnull(test_series)\n",
    "pd.notnull(test_series)"
   ]
  },
  {
   "cell_type": "code",
   "execution_count": null,
   "metadata": {},
   "outputs": [],
   "source": [
    "#print test_series for reference\n",
    "print test_series"
   ]
  },
  {
   "cell_type": "code",
   "execution_count": null,
   "metadata": {},
   "outputs": [],
   "source": [
    "test_series_2 = Series({\"one\":1, \"two\":2, \"three\":3, \"five\":5})\n",
    "#print test_series_2 for reference\n",
    "print test_series_2"
   ]
  },
  {
   "cell_type": "code",
   "execution_count": null,
   "metadata": {},
   "outputs": [],
   "source": [
    "#data alignment\n",
    "test_series + test_series_2"
   ]
  },
  {
   "cell_type": "code",
   "execution_count": null,
   "metadata": {},
   "outputs": [],
   "source": [
    "#changing index values in place\n",
    "new_index = [\"This\", \"is\", \"a\", \"new\", \"index\"]\n",
    "test_series.index = new_index\n",
    "print test_series"
   ]
  },
  {
   "cell_type": "code",
   "execution_count": null,
   "metadata": {},
   "outputs": [],
   "source": [
    "# create dataframe data\n",
    "data = {'state': ['Ohio', 'Ohio', 'Ohio', 'Nevada', 'Nevada'], \n",
    "        'year': [2000, 2001, 2002, 2001, 2002],\n",
    "        'pop': [1.5, 1.7, 3.6, 2.4, 2.9]}"
   ]
  },
  {
   "cell_type": "code",
   "execution_count": null,
   "metadata": {},
   "outputs": [],
   "source": [
    "# DataFrame has row and column indices\n",
    "# Columns in sorted order\n",
    "test_data_frame = DataFrame(data)\n",
    "print test_data_frame"
   ]
  },
  {
   "cell_type": "code",
   "execution_count": null,
   "metadata": {},
   "outputs": [],
   "source": [
    "# Change column sequence\n",
    "test_data_frame = DataFrame(data, columns=['year', 'state', 'pop'])\n",
    "print test_data_frame"
   ]
  },
  {
   "cell_type": "code",
   "execution_count": null,
   "metadata": {},
   "outputs": [],
   "source": [
    "# NA data\n",
    "test_data_frame = DataFrame(data, columns=['year', 'state', 'pop','debt'])\n",
    "print test_data_frame"
   ]
  },
  {
   "cell_type": "code",
   "execution_count": null,
   "metadata": {},
   "outputs": [],
   "source": [
    "# Any column can be retireved as a Series\n",
    "print test_data_frame['state']"
   ]
  },
  {
   "cell_type": "code",
   "execution_count": null,
   "metadata": {},
   "outputs": [],
   "source": [
    "# Change row names just like in Series\n",
    "test_data_frame = DataFrame(data, columns=['year', 'state', 'pop'], \n",
    "                            index=['row one', 'row two', 'row three', 'row four', 'row five'])\n",
    "print test_data_frame"
   ]
  },
  {
   "cell_type": "code",
   "execution_count": null,
   "metadata": {},
   "outputs": [],
   "source": [
    "# Select a row as a Series with ix() method\n",
    "print test_data_frame.loc['row three']"
   ]
  },
  {
   "cell_type": "code",
   "execution_count": null,
   "metadata": {},
   "outputs": [],
   "source": [
    "# Choosing multiple columns\n",
    "# Jupyters table display\n",
    "test_data_frame[['year', 'state']]"
   ]
  },
  {
   "cell_type": "code",
   "execution_count": null,
   "metadata": {},
   "outputs": [],
   "source": [
    "# Assigning a column a scalar value\n",
    "test_data_frame['debt'] = 25\n",
    "test_data_frame"
   ]
  },
  {
   "cell_type": "code",
   "execution_count": null,
   "metadata": {},
   "outputs": [],
   "source": [
    "# Assigning a column a vector value\n",
    "test_data_frame['debt'] = np.arange(1,6,1)\n",
    "test_data_frame"
   ]
  },
  {
   "cell_type": "code",
   "execution_count": null,
   "metadata": {},
   "outputs": [],
   "source": [
    "# Filling in holes in data\n",
    "test_data_frame['debt'] = np.NaN\n",
    "test_data_frame"
   ]
  },
  {
   "cell_type": "code",
   "execution_count": null,
   "metadata": {},
   "outputs": [],
   "source": [
    "new_data = Series([1.2, 2.4, 5.7],index=['row two', 'row three', 'row five'])\n",
    "test_data_frame['debt'] = new_data\n",
    "test_data_frame"
   ]
  },
  {
   "cell_type": "code",
   "execution_count": null,
   "metadata": {},
   "outputs": [],
   "source": [
    "# New column add and delete\n",
    "test_data_frame['zone'] = ['east', 'east', 'east', 'west', 'west']\n",
    "test_data_frame\n",
    "\n",
    "del test_data_frame['zone']\n",
    "test_data_frame"
   ]
  },
  {
   "cell_type": "code",
   "execution_count": null,
   "metadata": {},
   "outputs": [],
   "source": [
    "# Transpose\n",
    "transposed_data_frame = test_data_frame.T\n",
    "# Reindex-ing rows\n",
    "# print test data frame for reference\n",
    "transposed_data_frame"
   ]
  },
  {
   "cell_type": "code",
   "execution_count": null,
   "metadata": {},
   "outputs": [],
   "source": [
    "test_data_frame"
   ]
  },
  {
   "cell_type": "code",
   "execution_count": null,
   "metadata": {},
   "outputs": [],
   "source": [
    "# Row shuffle\n",
    "test_data_frame.reindex(['row five', 'row four', 'row three', 'row two', 'row one'])"
   ]
  },
  {
   "cell_type": "code",
   "execution_count": null,
   "metadata": {},
   "outputs": [],
   "source": [
    "# Row shuffle with new row missing from original\n",
    "test_data_frame.reindex(['row five', 'row four', 'row three', 'row two', 'row one', 'missing row'])"
   ]
  },
  {
   "cell_type": "code",
   "execution_count": null,
   "metadata": {},
   "outputs": [],
   "source": [
    "# Row shuffle with new row missing from original, with fill value\n",
    "test_data_frame.reindex(['row five', 'row four', 'row three', 'row two', 'row one', 'missing row'],\n",
    "                       fill_value=-1)"
   ]
  },
  {
   "cell_type": "code",
   "execution_count": null,
   "metadata": {},
   "outputs": [],
   "source": [
    "# Reindex-ing colums with 'columns' keyword\n",
    "# print test data frame for reference\n",
    "test_data_frame"
   ]
  },
  {
   "cell_type": "code",
   "execution_count": null,
   "metadata": {},
   "outputs": [],
   "source": [
    "# Column shuffle\n",
    "test_data_frame.reindex(columns=['pop', 'year', 'debt', 'state', 'new column'])"
   ]
  },
  {
   "cell_type": "code",
   "execution_count": null,
   "metadata": {},
   "outputs": [],
   "source": [
    "# Summarization methods (excluse invalid N/A data)\n",
    "# more robust than numpy methods\n",
    "# sum of each column\n",
    "test_data_frame.sum()\n",
    "#sum of each row\n",
    "test_data_frame.sum(axis=1)"
   ]
  },
  {
   "cell_type": "code",
   "execution_count": null,
   "metadata": {},
   "outputs": [],
   "source": [
    "#Data Frame joins\n",
    "data_frame_1 = DataFrame({'lkey': ['b', 'b', 'a', 'c', 'a', 'a', 'b'], \n",
    "                          'data1': range(7)})"
   ]
  },
  {
   "cell_type": "code",
   "execution_count": null,
   "metadata": {},
   "outputs": [],
   "source": [
    "data_frame_2 = DataFrame({'rkey': ['a', 'b', 'd'],\n",
    "                          'data2': range(3)})"
   ]
  },
  {
   "cell_type": "code",
   "execution_count": null,
   "metadata": {
    "scrolled": true
   },
   "outputs": [],
   "source": [
    "data_frame_1"
   ]
  },
  {
   "cell_type": "code",
   "execution_count": null,
   "metadata": {},
   "outputs": [],
   "source": [
    "data_frame_2"
   ]
  },
  {
   "cell_type": "code",
   "execution_count": null,
   "metadata": {},
   "outputs": [],
   "source": [
    "pd.merge(data_frame_1, data_frame_2,left_on='lkey', right_on='rkey')"
   ]
  },
  {
   "cell_type": "code",
   "execution_count": null,
   "metadata": {},
   "outputs": [],
   "source": []
  }
 ],
 "metadata": {
  "kernelspec": {
   "display_name": "Python 2",
   "language": "python",
   "name": "python2"
  },
  "language_info": {
   "codemirror_mode": {
    "name": "ipython",
    "version": 2
   },
   "file_extension": ".py",
   "mimetype": "text/x-python",
   "name": "python",
   "nbconvert_exporter": "python",
   "pygments_lexer": "ipython2",
   "version": "2.7.13"
  }
 },
 "nbformat": 4,
 "nbformat_minor": 1
}
