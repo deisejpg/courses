{
 "cells": [
  {
   "cell_type": "code",
   "execution_count": 1,
   "metadata": {
    "collapsed": true
   },
   "outputs": [],
   "source": [
    "# Import NumPy\n",
    "import numpy as np"
   ]
  },
  {
   "cell_type": "code",
   "execution_count": 3,
   "metadata": {},
   "outputs": [
    {
     "name": "stdout",
     "output_type": "stream",
     "text": [
      "[ 1.  2.  3.  4.  5.]\n"
     ]
    }
   ],
   "source": [
    "# Create a numpy array with np.array([Any List or Sequence data])\n",
    "test_array = np.array([1.0, 2.0, 3.0, 4.0, 5.0])\n",
    "print test_array"
   ]
  },
  {
   "cell_type": "code",
   "execution_count": 6,
   "metadata": {},
   "outputs": [
    {
     "name": "stdout",
     "output_type": "stream",
     "text": [
      "(5,)\n",
      "1\n"
     ]
    },
    {
     "data": {
      "text/plain": [
       "1"
      ]
     },
     "execution_count": 6,
     "metadata": {},
     "output_type": "execute_result"
    }
   ],
   "source": [
    "# The array has attributes that can be accessed\n",
    "# shape (tuple indicating the dimensions)\n",
    "print test_array.shape\n",
    "# Rank \n",
    "print len(test_array.shape)\n",
    "test_array.ndim"
   ]
  },
  {
   "cell_type": "code",
   "execution_count": 7,
   "metadata": {
    "collapsed": true
   },
   "outputs": [],
   "source": [
    "# nested sequence to create multi dimensional array\n",
    "two_dim_test_array = np.array([[1,2,3,4,5],[6,7,8,9,10]])"
   ]
  },
  {
   "cell_type": "code",
   "execution_count": 8,
   "metadata": {},
   "outputs": [
    {
     "data": {
      "text/plain": [
       "(2, 5)"
      ]
     },
     "execution_count": 8,
     "metadata": {},
     "output_type": "execute_result"
    }
   ],
   "source": [
    "two_dim_test_array.shape"
   ]
  },
  {
   "cell_type": "code",
   "execution_count": 9,
   "metadata": {},
   "outputs": [
    {
     "data": {
      "text/plain": [
       "2"
      ]
     },
     "execution_count": 9,
     "metadata": {},
     "output_type": "execute_result"
    }
   ],
   "source": [
    "two_dim_test_array.ndim"
   ]
  },
  {
   "cell_type": "code",
   "execution_count": 11,
   "metadata": {},
   "outputs": [
    {
     "name": "stdout",
     "output_type": "stream",
     "text": [
      "[ 1.  2.  3.  4.  5.]\n"
     ]
    }
   ],
   "source": [
    "# print test_array for reference\n",
    "print test_array"
   ]
  },
  {
   "cell_type": "code",
   "execution_count": 12,
   "metadata": {},
   "outputs": [
    {
     "name": "stdout",
     "output_type": "stream",
     "text": [
      "float64\n"
     ]
    }
   ],
   "source": [
    "# data type \n",
    "print test_array.dtype"
   ]
  },
  {
   "cell_type": "code",
   "execution_count": 13,
   "metadata": {
    "collapsed": true
   },
   "outputs": [],
   "source": [
    "# data type can also be specifed at creation time\n",
    "test_array_128 = np.array(test_array, dtype='float128')"
   ]
  },
  {
   "cell_type": "code",
   "execution_count": 10,
   "metadata": {},
   "outputs": [
    {
     "name": "stdout",
     "output_type": "stream",
     "text": [
      "float128\n"
     ]
    }
   ],
   "source": [
    "# data type \n",
    "print test_array_128.dtype"
   ]
  },
  {
   "cell_type": "code",
   "execution_count": 11,
   "metadata": {},
   "outputs": [
    {
     "name": "stdout",
     "output_type": "stream",
     "text": [
      "[  1.       3.3184   5.6368   7.9552  10.2736  12.592   14.9104  17.2288\n",
      "  19.5472  21.8656  24.184   26.5024  28.8208  31.1392  33.4576  35.776\n",
      "  38.0944  40.4128  42.7312  45.0496  47.368   49.6864  52.0048  54.3232\n",
      "  56.6416  58.96    61.2784  63.5968  65.9152  68.2336  70.552   72.8704\n",
      "  75.1888  77.5072  79.8256  82.144   84.4624  86.7808  89.0992  91.4176\n",
      "  93.736   96.0544  98.3728 100.6912 103.0096 105.328 ]\n",
      "1\n"
     ]
    }
   ],
   "source": [
    "# np.arange(start, stop, step_size)\n",
    "# Like range() for python lists/arrays\n",
    "test_array = np.arange(1.0, 105.82, 2.3184)\n",
    "print test_array\n",
    "\n",
    "\n",
    "# np arrays can be reshaped using same number of elements\n",
    "# Shape = (46,), Rank = 1\n",
    "test_array.shape\n",
    "print len(test_array.shape)"
   ]
  },
  {
   "cell_type": "code",
   "execution_count": 12,
   "metadata": {},
   "outputs": [
    {
     "name": "stdout",
     "output_type": "stream",
     "text": [
      "[[  1.       3.3184]\n",
      " [  5.6368   7.9552]\n",
      " [ 10.2736  12.592 ]\n",
      " [ 14.9104  17.2288]\n",
      " [ 19.5472  21.8656]\n",
      " [ 24.184   26.5024]\n",
      " [ 28.8208  31.1392]\n",
      " [ 33.4576  35.776 ]\n",
      " [ 38.0944  40.4128]\n",
      " [ 42.7312  45.0496]\n",
      " [ 47.368   49.6864]\n",
      " [ 52.0048  54.3232]\n",
      " [ 56.6416  58.96  ]\n",
      " [ 61.2784  63.5968]\n",
      " [ 65.9152  68.2336]\n",
      " [ 70.552   72.8704]\n",
      " [ 75.1888  77.5072]\n",
      " [ 79.8256  82.144 ]\n",
      " [ 84.4624  86.7808]\n",
      " [ 89.0992  91.4176]\n",
      " [ 93.736   96.0544]\n",
      " [ 98.3728 100.6912]\n",
      " [103.0096 105.328 ]]\n",
      "1\n"
     ]
    }
   ],
   "source": [
    "# np.array.reshape (23,2)  Returns a reshaped array\n",
    "print test_array.reshape(23,2)\n",
    "# Shape = (46,), Rank = 1\n",
    "test_array.shape\n",
    "print len(test_array.shape)"
   ]
  },
  {
   "cell_type": "code",
   "execution_count": 13,
   "metadata": {
    "collapsed": true
   },
   "outputs": [],
   "source": [
    "# reshape() function itself does not modify original\n",
    "test_array = test_array.reshape(23,2)"
   ]
  },
  {
   "cell_type": "code",
   "execution_count": 14,
   "metadata": {},
   "outputs": [
    {
     "name": "stdout",
     "output_type": "stream",
     "text": [
      "2\n"
     ]
    }
   ],
   "source": [
    "# Shape = (23,2), Rank = 2\n",
    "test_array.shape\n",
    "print len(test_array.shape)"
   ]
  },
  {
   "cell_type": "code",
   "execution_count": 15,
   "metadata": {
    "collapsed": true
   },
   "outputs": [],
   "source": [
    "# nested sequence to create multi dimensional array                                                                                                         \n",
    "# 4x7 2-D array\n",
    "one_d_array=np.array([1,2,3,4,5,6,7])\n",
    "test_array = np.array([one_d_array, one_d_array*3, one_d_array*5, one_d_array*7])"
   ]
  },
  {
   "cell_type": "code",
   "execution_count": 16,
   "metadata": {},
   "outputs": [
    {
     "name": "stdout",
     "output_type": "stream",
     "text": [
      "[[ 1  2  3  4  5  6  7]\n",
      " [ 3  6  9 12 15 18 21]\n",
      " [ 5 10 15 20 25 30 35]\n",
      " [ 7 14 21 28 35 42 49]]\n"
     ]
    }
   ],
   "source": [
    "# Print Test array 4x7\n",
    "print test_array"
   ]
  },
  {
   "cell_type": "code",
   "execution_count": 17,
   "metadata": {},
   "outputs": [
    {
     "name": "stdout",
     "output_type": "stream",
     "text": [
      "(4, 7)\n"
     ]
    }
   ],
   "source": [
    "# Shape\n",
    "print test_array.shape"
   ]
  },
  {
   "cell_type": "code",
   "execution_count": 18,
   "metadata": {},
   "outputs": [
    {
     "name": "stdout",
     "output_type": "stream",
     "text": [
      "2\n"
     ]
    }
   ],
   "source": [
    "# Rank\n",
    "print test_array.ndim"
   ]
  },
  {
   "cell_type": "code",
   "execution_count": 19,
   "metadata": {},
   "outputs": [
    {
     "name": "stdout",
     "output_type": "stream",
     "text": [
      "[ 5 10 15 20 25 30 35]\n"
     ]
    }
   ],
   "source": [
    "# Slice along the first dimension\n",
    "print test_array[2]"
   ]
  },
  {
   "cell_type": "code",
   "execution_count": 20,
   "metadata": {},
   "outputs": [
    {
     "name": "stdout",
     "output_type": "stream",
     "text": [
      "[[ 3  6  9 12 15 18 21]\n",
      " [ 5 10 15 20 25 30 35]]\n"
     ]
    }
   ],
   "source": [
    "# Slince along the first dimension with index range\n",
    "# test_array[start_index:stop_index]\n",
    "# This gives corresponding elements from [start,stop)\n",
    "print test_array[1:3]"
   ]
  },
  {
   "cell_type": "code",
   "execution_count": 21,
   "metadata": {},
   "outputs": [
    {
     "name": "stdout",
     "output_type": "stream",
     "text": [
      "30\n"
     ]
    }
   ],
   "source": [
    "# Elements accessed by index along each dimension\n",
    "print test_array[2,5]"
   ]
  },
  {
   "cell_type": "code",
   "execution_count": 22,
   "metadata": {},
   "outputs": [
    {
     "name": "stdout",
     "output_type": "stream",
     "text": [
      "[[ 9 12 15]\n",
      " [15 20 25]]\n"
     ]
    }
   ],
   "source": [
    "# Slice across two dimensions\n",
    "print test_array[1:3, 2:5]"
   ]
  },
  {
   "cell_type": "code",
   "execution_count": 23,
   "metadata": {},
   "outputs": [
    {
     "name": "stdout",
     "output_type": "stream",
     "text": [
      "[[ 1  3  5  7]\n",
      " [ 2  6 10 14]\n",
      " [ 3  9 15 21]\n",
      " [ 4 12 20 28]\n",
      " [ 5 15 25 35]\n",
      " [ 6 18 30 42]\n",
      " [ 7 21 35 49]]\n"
     ]
    }
   ],
   "source": [
    "# Transpose an array with T operator\n",
    "print test_array.T"
   ]
  },
  {
   "cell_type": "code",
   "execution_count": null,
   "metadata": {
    "collapsed": true
   },
   "outputs": [],
   "source": []
  }
 ],
 "metadata": {
  "kernelspec": {
   "display_name": "Python 3",
   "language": "python",
   "name": "python3"
  },
  "language_info": {
   "codemirror_mode": {
    "name": "ipython",
    "version": 3
   },
   "file_extension": ".py",
   "mimetype": "text/x-python",
   "name": "python",
   "nbconvert_exporter": "python",
   "pygments_lexer": "ipython3",
   "version": "3.6.0"
  }
 },
 "nbformat": 4,
 "nbformat_minor": 1
}
