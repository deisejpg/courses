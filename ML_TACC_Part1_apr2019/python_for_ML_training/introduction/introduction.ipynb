{
 "cells": [
  {
   "cell_type": "code",
   "execution_count": 1,
   "metadata": {
    "collapsed": true
   },
   "outputs": [],
   "source": [
    "# Importing a module \n",
    "import sys"
   ]
  },
  {
   "cell_type": "code",
   "execution_count": 2,
   "metadata": {},
   "outputs": [
    {
     "data": {
      "text/plain": [
       "['',\n",
       " '/home1/02700/deisejpg/local/lib/python2.7/site-packages',\n",
       " '/opt/apps/intel18/impi18_0/python2/2.7.15/lib/python2.7/site-packages',\n",
       " '/opt/apps/intel18/python2/2.7.15/lib/python27.zip',\n",
       " '/opt/apps/intel18/python2/2.7.15/lib/python2.7',\n",
       " '/opt/apps/intel18/python2/2.7.15/lib/python2.7/plat-linux2',\n",
       " '/opt/apps/intel18/python2/2.7.15/lib/python2.7/lib-tk',\n",
       " '/opt/apps/intel18/python2/2.7.15/lib/python2.7/lib-old',\n",
       " '/opt/apps/intel18/python2/2.7.15/lib/python2.7/lib-dynload',\n",
       " '/opt/apps/intel18/python2/2.7.15/lib/python2.7/site-packages',\n",
       " '/opt/apps/intel18/python2/2.7.15/lib/python2.7/site-packages/numpy-1.16.1-py2.7-linux-x86_64.egg',\n",
       " '/opt/apps/intel18/python2/2.7.15/lib/python2.7/site-packages/scipy-1.2.0-py2.7-linux-x86_64.egg',\n",
       " '/opt/apps/intel18/python2/2.7.15/lib/python2.7/site-packages/gtk-2.0',\n",
       " '/opt/apps/intel18/python2/2.7.15/lib/python2.7/site-packages/IPython/extensions',\n",
       " '/home1/02700/deisejpg/.ipython']"
      ]
     },
     "execution_count": 2,
     "metadata": {},
     "output_type": "execute_result"
    }
   ],
   "source": [
    "# accessing a modules parameters\n",
    "sys.path"
   ]
  },
  {
   "cell_type": "code",
   "execution_count": 3,
   "metadata": {},
   "outputs": [
    {
     "data": {
      "text/plain": [
       "'\\nThis is a\\nmultiline comment\\n'"
      ]
     },
     "execution_count": 3,
     "metadata": {},
     "output_type": "execute_result"
    }
   ],
   "source": [
    "# This is a single line comment\n",
    "\"\"\"\n",
    "This is a\n",
    "multiline comment\n",
    "\"\"\""
   ]
  },
  {
   "cell_type": "code",
   "execution_count": 15,
   "metadata": {
    "collapsed": true
   },
   "outputs": [],
   "source": [
    "# Initialising a Variable\n",
    "# Integer\n",
    "x = 10\n",
    "# String\n",
    "y = \" hello \""
   ]
  },
  {
   "cell_type": "code",
   "execution_count": 5,
   "metadata": {},
   "outputs": [
    {
     "name": "stdout",
     "output_type": "stream",
     "text": [
      "4\n"
     ]
    }
   ],
   "source": [
    "# Collections: List, Tuple, Dictionary\n",
    "# List\n",
    "example_list = [ \"a\", \"b\", \"c\" ]\n",
    "# List : access element\n",
    "example_list[2]\n",
    "# List : append element\n",
    "example_list.append(\"d\")\n",
    "# Get length of list\n",
    "print len(example_list)\n",
    "# Initialize empty list\n",
    "empty_list = list()"
   ]
  },
  {
   "cell_type": "code",
   "execution_count": 9,
   "metadata": {},
   "outputs": [
    {
     "name": "stdout",
     "output_type": "stream",
     "text": [
      "3\n"
     ]
    }
   ],
   "source": [
    "# Tuple\n",
    "example_tuple = (1, 2, 3)\n",
    "# Tuple : access element\n",
    "example_tuple[1]\n",
    "# Tuple : no append method i.e immutable\n",
    "# Get length of tuple\n",
    "print len(example_tuple)"
   ]
  },
  {
   "cell_type": "code",
   "execution_count": 10,
   "metadata": {},
   "outputs": [
    {
     "name": "stdout",
     "output_type": "stream",
     "text": [
      "{'a': 1, 'c': 3, 'b': 3, 'd': 4}\n",
      "4\n"
     ]
    }
   ],
   "source": [
    "# Dictionary {Key:Value, Key:Value....}\n",
    "example_dictionary = {\"a\":1, \"b\":3, \"c\":3}\n",
    "# Dictionary : access element by key\n",
    "example_dictionary[\"c\"]\n",
    "# Add new element\n",
    "example_dictionary[\"d\"]=4\n",
    "print example_dictionary\n",
    "# Get length of dictionary\n",
    "print len(example_dictionary)"
   ]
  },
  {
   "cell_type": "code",
   "execution_count": 16,
   "metadata": {},
   "outputs": [
    {
     "name": "stdout",
     "output_type": "stream",
     "text": [
      "['a', 'b', 'c', 'd', 'x']\n"
     ]
    }
   ],
   "source": [
    "print example_list"
   ]
  },
  {
   "cell_type": "code",
   "execution_count": 17,
   "metadata": {},
   "outputs": [
    {
     "name": "stdout",
     "output_type": "stream",
     "text": [
      "Odd number of elements\n"
     ]
    }
   ],
   "source": [
    "# Example control flow\n",
    "# if-elif-else : Number of elements even or odd or empty list\n",
    "if len(example_list)==0:\n",
    "    print \"empty list\"\n",
    "elif len(example_list)%2==0:\n",
    "    print \"Even number of elements\"\n",
    "else:\n",
    "    print \"Odd number of elements\""
   ]
  },
  {
   "cell_type": "code",
   "execution_count": 19,
   "metadata": {},
   "outputs": [
    {
     "name": "stdout",
     "output_type": "stream",
     "text": [
      "a\n",
      "c\n",
      "x\n"
     ]
    }
   ],
   "source": [
    "# For loop : Print even index elements of the list\n",
    "for element in example_list:\n",
    "    if example_list.index(element)%2==0:\n",
    "        print element\n",
    "    else:\n",
    "        # pass does nothing\n",
    "        pass"
   ]
  },
  {
   "cell_type": "code",
   "execution_count": 20,
   "metadata": {},
   "outputs": [
    {
     "name": "stdout",
     "output_type": "stream",
     "text": [
      "Found element x\n"
     ]
    }
   ],
   "source": [
    "# While loop : Search for \"x\" in list\n",
    "example_list.append(\"x\")\n",
    "index=0\n",
    "while index<len(example_list):\n",
    "    if example_list[index] == \"x\":\n",
    "        print \"Found element x\"\n",
    "        break\n",
    "    else:\n",
    "        index+=1\n",
    "        continue    "
   ]
  },
  {
   "cell_type": "code",
   "execution_count": 21,
   "metadata": {
    "collapsed": true
   },
   "outputs": [],
   "source": [
    "# define function to search a list for an element \n",
    "# and return its index if found and -1 if not found\n",
    "def search_list_for_element(element, search_list):\n",
    "    index=0\n",
    "    while index < len(search_list):\n",
    "        if search_list[index] == element:\n",
    "            break\n",
    "        else:\n",
    "            index+=1\n",
    "            continue\n",
    "    #If index is less than length, element is found\n",
    "    if index < len(search_list):\n",
    "        return index\n",
    "    else:\n",
    "        return -1"
   ]
  },
  {
   "cell_type": "code",
   "execution_count": 22,
   "metadata": {},
   "outputs": [
    {
     "name": "stdout",
     "output_type": "stream",
     "text": [
      "27\n",
      "27\n",
      "27\n"
     ]
    }
   ],
   "source": [
    "#Lambdas\n",
    "y = lambda x:x**3\n",
    "print y(3)\n",
    "\n",
    "z = (lambda x,y: x**y)\n",
    "print z(3,3)\n",
    "\n",
    "#anonymous\n",
    "print (lambda x,y: x**y)(3,3)"
   ]
  },
  {
   "cell_type": "markdown",
   "metadata": {},
   "source": [
    "## Vector Dot Product"
   ]
  },
  {
   "cell_type": "code",
   "execution_count": 23,
   "metadata": {
    "collapsed": true
   },
   "outputs": [],
   "source": [
    "#define function to multiply (vector dot product) of 2 lists of integers\n",
    "#input: list x and list y\n",
    "#output: list result = x.y or -1 for error\n",
    "def dot(x,y):\n",
    "    #check if both lists are equal length\n",
    "    if len(x) == len(y):\n",
    "        # empty list\n",
    "        result_list = list()\n",
    "        #index\n",
    "        index = 0\n",
    "        #iterate through 2 lists\n",
    "        while index < len(x):\n",
    "            result_list.append(x[index]*y[index])\n",
    "            index+=1\n",
    "        return result_list\n",
    "    else:\n",
    "        print \"Error: Lists of unequal length given\"\n",
    "        return -1"
   ]
  },
  {
   "cell_type": "code",
   "execution_count": 25,
   "metadata": {},
   "outputs": [
    {
     "name": "stdout",
     "output_type": "stream",
     "text": [
      "[1, 2, 3, 4, 5]\n",
      "[6, 7, 8, 9, 10]\n"
     ]
    }
   ],
   "source": [
    "#range(start,stop,step) [start,stop) in increments of step\n",
    "a=range(1,6,1)\n",
    "print a\n",
    "b=[6,7,8,9,10]\n",
    "print b"
   ]
  },
  {
   "cell_type": "code",
   "execution_count": 26,
   "metadata": {},
   "outputs": [
    {
     "name": "stdout",
     "output_type": "stream",
     "text": [
      "[6, 14, 24, 36, 50]\n"
     ]
    }
   ],
   "source": [
    "#valid\n",
    "print dot(a,b)"
   ]
  },
  {
   "cell_type": "code",
   "execution_count": 27,
   "metadata": {},
   "outputs": [
    {
     "name": "stdout",
     "output_type": "stream",
     "text": [
      "Error: Lists of unequal length given\n",
      "-1\n"
     ]
    }
   ],
   "source": [
    "#invalid\n",
    "d=range(1,6,2)\n",
    "print dot(a,d)"
   ]
  },
  {
   "cell_type": "markdown",
   "metadata": {},
   "source": [
    "## Basic I/O"
   ]
  },
  {
   "cell_type": "code",
   "execution_count": 28,
   "metadata": {
    "collapsed": true
   },
   "outputs": [],
   "source": [
    "import os\n",
    "home_path =  os.path.expanduser(\"~\")\n",
    "file_path = os.path.join(home_path, \"python_for_ML_training/data/8M_book.txt\")"
   ]
  },
  {
   "cell_type": "code",
   "execution_count": 29,
   "metadata": {
    "collapsed": true
   },
   "outputs": [],
   "source": [
    "# Open a file\n",
    "file_object = open(file_path, \"r\")"
   ]
  },
  {
   "cell_type": "code",
   "execution_count": 30,
   "metadata": {},
   "outputs": [
    {
     "data": {
      "text/plain": [
       "'/home1/02700/deisejpg/python_for_ML_training/data/8M_book.txt'"
      ]
     },
     "execution_count": 30,
     "metadata": {},
     "output_type": "execute_result"
    }
   ],
   "source": [
    "# Access file object attribute\n",
    "file_object.name"
   ]
  },
  {
   "cell_type": "code",
   "execution_count": 31,
   "metadata": {
    "collapsed": true
   },
   "outputs": [],
   "source": [
    "# read first 20 bytes\n",
    "first_n_bytes = file_object.read(20)"
   ]
  },
  {
   "cell_type": "code",
   "execution_count": 32,
   "metadata": {},
   "outputs": [
    {
     "name": "stdout",
     "output_type": "stream",
     "text": [
      "20\n"
     ]
    }
   ],
   "source": [
    "# tell file read pointer position\n",
    "print file_object.tell()"
   ]
  },
  {
   "cell_type": "code",
   "execution_count": 33,
   "metadata": {
    "collapsed": true
   },
   "outputs": [],
   "source": [
    "# seek back to zero\n",
    "file_object.seek(0)"
   ]
  },
  {
   "cell_type": "code",
   "execution_count": 34,
   "metadata": {
    "collapsed": true
   },
   "outputs": [],
   "source": [
    "#read a line\n",
    "line = file_object.readline()"
   ]
  },
  {
   "cell_type": "code",
   "execution_count": 35,
   "metadata": {},
   "outputs": [
    {
     "name": "stdout",
     "output_type": "stream",
     "text": [
      "67\n"
     ]
    }
   ],
   "source": [
    "# tell file read pointer position\n",
    "print file_object.tell()"
   ]
  },
  {
   "cell_type": "code",
   "execution_count": 36,
   "metadata": {
    "collapsed": true
   },
   "outputs": [],
   "source": [
    "#file close\n",
    "file_object.close()"
   ]
  },
  {
   "cell_type": "markdown",
   "metadata": {},
   "source": [
    "## Line Count"
   ]
  },
  {
   "cell_type": "code",
   "execution_count": 37,
   "metadata": {
    "collapsed": true
   },
   "outputs": [],
   "source": [
    "import os\n",
    "home_path =  os.path.expanduser(\"~\")\n",
    "file_path = os.path.join(home_path, \"python_for_ML_training/data/8M_book.txt\")"
   ]
  },
  {
   "cell_type": "code",
   "execution_count": 38,
   "metadata": {},
   "outputs": [
    {
     "name": "stdout",
     "output_type": "stream",
     "text": [
      "146933\n"
     ]
    }
   ],
   "source": [
    "\n",
    "# define a function to count number of lines in a file\n",
    "#input: open file object, with seek position 0\n",
    "#output: number of lines in the file\n",
    "def count_number_of_lines(f):\n",
    "    #read a line\n",
    "    line = f.readline()\n",
    "    #initiate line count\n",
    "    if line:\n",
    "        line_count=1\n",
    "    else:\n",
    "        line_count=0\n",
    "    #iterate through each line of file\n",
    "    while line:\n",
    "        line_count+=1\n",
    "        line = f.readline()\n",
    "    return line_count\n",
    "\n",
    "# Open a file\n",
    "file_object = open(file_path, \"r\")\n",
    "\n",
    "print count_number_of_lines(file_object)\n",
    "\n",
    "#file close\n",
    "file_object.close()"
   ]
  },
  {
   "cell_type": "code",
   "execution_count": null,
   "metadata": {
    "collapsed": true
   },
   "outputs": [],
   "source": []
  }
 ],
 "metadata": {
  "kernelspec": {
   "display_name": "Python 3",
   "language": "python",
   "name": "python3"
  },
  "language_info": {
   "codemirror_mode": {
    "name": "ipython",
    "version": 3
   },
   "file_extension": ".py",
   "mimetype": "text/x-python",
   "name": "python",
   "nbconvert_exporter": "python",
   "pygments_lexer": "ipython3",
   "version": "3.6.0"
  }
 },
 "nbformat": 4,
 "nbformat_minor": 2
}
