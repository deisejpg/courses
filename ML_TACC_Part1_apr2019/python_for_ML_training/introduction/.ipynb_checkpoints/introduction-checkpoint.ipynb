{
 "cells": [
  {
   "cell_type": "code",
   "execution_count": null,
   "metadata": {},
   "outputs": [],
   "source": [
    "# Importing a module \n",
    "import sys"
   ]
  },
  {
   "cell_type": "code",
   "execution_count": null,
   "metadata": {},
   "outputs": [],
   "source": [
    "# accessing a modules parameters\n",
    "sys.path"
   ]
  },
  {
   "cell_type": "code",
   "execution_count": null,
   "metadata": {},
   "outputs": [],
   "source": [
    "# This is a single line comment\n",
    "\"\"\"\n",
    "This is a\n",
    "multiline comment\n",
    "\"\"\""
   ]
  },
  {
   "cell_type": "code",
   "execution_count": null,
   "metadata": {},
   "outputs": [],
   "source": [
    "# Initialising a Variable\n",
    "# Integer\n",
    "x = 10\n",
    "# String\n",
    "y = \" hello \""
   ]
  },
  {
   "cell_type": "code",
   "execution_count": null,
   "metadata": {},
   "outputs": [],
   "source": [
    "# Collections: List, Tuple, Dictionary\n",
    "# List\n",
    "example_list = [ \"a\", \"b\", \"c\" ]\n",
    "# List : access element\n",
    "example_list[2]\n",
    "# List : append element\n",
    "example_list.append(\"d\")\n",
    "# Get length of list\n",
    "print len(example_list)\n",
    "# Initialize empty list\n",
    "empty_list = list()"
   ]
  },
  {
   "cell_type": "code",
   "execution_count": null,
   "metadata": {},
   "outputs": [],
   "source": [
    "# Tuple\n",
    "example_tuple = (1, 2, 3)\n",
    "# Tuple : access element\n",
    "example_tuple[1]\n",
    "# Tuple : no append method i.e immutable\n",
    "# Get length of tuple\n",
    "print len(example_tuple)"
   ]
  },
  {
   "cell_type": "code",
   "execution_count": null,
   "metadata": {},
   "outputs": [],
   "source": [
    "# Dictionary {Key:Value, Key:Value....}\n",
    "example_dictionary = {\"a\":1, \"b\":3, \"c\":3}\n",
    "# Dictionary : access element by key\n",
    "example_dictionary[\"c\"]\n",
    "# Add new element\n",
    "example_dictionary[\"d\"]=4\n",
    "print example_dictionary\n",
    "# Get length of dictionary\n",
    "print len(example_dictionary)"
   ]
  },
  {
   "cell_type": "code",
   "execution_count": null,
   "metadata": {},
   "outputs": [],
   "source": [
    "# Example control flow\n",
    "# if-elif-else : Number of elements even or odd or empty list\n",
    "if len(example_list)==0:\n",
    "    print \"empty list\"\n",
    "elif len(example_list)%2==0:\n",
    "    print \"Even number of elements\"\n",
    "else:\n",
    "    print \"Odd number of elements\""
   ]
  },
  {
   "cell_type": "code",
   "execution_count": null,
   "metadata": {},
   "outputs": [],
   "source": [
    "# For loop : Print even index elements of the list\n",
    "for element in example_list:\n",
    "    if example_list.index(element)%2==0:\n",
    "        print element\n",
    "    else:\n",
    "        # pass does nothing\n",
    "        pass"
   ]
  },
  {
   "cell_type": "code",
   "execution_count": null,
   "metadata": {},
   "outputs": [],
   "source": [
    "# While loop : Search for \"x\" in list\n",
    "example_list.append(\"x\")\n",
    "index=0\n",
    "while index<len(example_list):\n",
    "    if example_list[index] == \"x\":\n",
    "        print \"Found element x\"\n",
    "        break\n",
    "    else:\n",
    "        index+=1\n",
    "        continue    "
   ]
  },
  {
   "cell_type": "code",
   "execution_count": null,
   "metadata": {},
   "outputs": [],
   "source": [
    "# define function to search a list for an element \n",
    "# and return its index if found and -1 if not found\n",
    "def search_list_for_element(element, search_list):\n",
    "    index=0\n",
    "    while index < len(search_list):\n",
    "        if search_list[index] == element:\n",
    "            break\n",
    "        else:\n",
    "            index+=1\n",
    "            continue\n",
    "    #If index is less than length, element is found\n",
    "    if index < len(search_list):\n",
    "        return index\n",
    "    else:\n",
    "        return -1"
   ]
  },
  {
   "cell_type": "code",
   "execution_count": null,
   "metadata": {},
   "outputs": [],
   "source": [
    "#Lambdas\n",
    "y = lambda x:x**3\n",
    "print y(3)\n",
    "\n",
    "z = (lambda x,y: x**y)\n",
    "print z(3,3)\n",
    "\n",
    "#anonymous\n",
    "print (lambda x,y: x**y)(3,3)"
   ]
  },
  {
   "cell_type": "markdown",
   "metadata": {},
   "source": [
    "## Vector Dot Product"
   ]
  },
  {
   "cell_type": "code",
   "execution_count": null,
   "metadata": {},
   "outputs": [],
   "source": [
    "#define function to multiply (vector dot product) of 2 lists of integers\n",
    "#input: list x and list y\n",
    "#output: list result = x.y or -1 for error\n",
    "def dot(x,y):\n",
    "    #check if both lists are equal length\n",
    "    if len(x) == len(y):\n",
    "        # empty list\n",
    "        result_list = list()\n",
    "        #index\n",
    "        index = 0\n",
    "        #iterate through 2 lists\n",
    "        while index < len(x):\n",
    "            result_list.append(x[index]*y[index])\n",
    "            index+=1\n",
    "        return result_list\n",
    "    else:\n",
    "        print \"Error: Lists of unequal length given\"\n",
    "        return -1"
   ]
  },
  {
   "cell_type": "code",
   "execution_count": null,
   "metadata": {},
   "outputs": [],
   "source": [
    "#range(start,stop,step) [start,stop) in increments of step\n",
    "a=range(1,6,1)\n",
    "b=[6,7,8,9,10]"
   ]
  },
  {
   "cell_type": "code",
   "execution_count": null,
   "metadata": {},
   "outputs": [],
   "source": [
    "#valid\n",
    "print dot(a,b)"
   ]
  },
  {
   "cell_type": "code",
   "execution_count": null,
   "metadata": {},
   "outputs": [],
   "source": [
    "#invalid\n",
    "d=range(1,6,2)\n",
    "print dot(a,d)"
   ]
  },
  {
   "cell_type": "markdown",
   "metadata": {},
   "source": [
    "## Basic I/O"
   ]
  },
  {
   "cell_type": "code",
   "execution_count": null,
   "metadata": {},
   "outputs": [],
   "source": [
    "import os\n",
    "home_path =  os.path.expanduser(\"~\")\n",
    "file_path = os.path.join(home_path, \"python_for_ML_training/data/8M_book.txt\")"
   ]
  },
  {
   "cell_type": "code",
   "execution_count": null,
   "metadata": {},
   "outputs": [],
   "source": [
    "# Open a file\n",
    "file_object = open(file_path, \"r\")"
   ]
  },
  {
   "cell_type": "code",
   "execution_count": null,
   "metadata": {},
   "outputs": [],
   "source": [
    "# Access file object attribute\n",
    "file_object.name"
   ]
  },
  {
   "cell_type": "code",
   "execution_count": null,
   "metadata": {},
   "outputs": [],
   "source": [
    "# read first 20 bytes\n",
    "first_n_bytes = file_object.read(20)"
   ]
  },
  {
   "cell_type": "code",
   "execution_count": null,
   "metadata": {},
   "outputs": [],
   "source": [
    "# tell file read pointer position\n",
    "print file_object.tell()"
   ]
  },
  {
   "cell_type": "code",
   "execution_count": null,
   "metadata": {},
   "outputs": [],
   "source": [
    "# seek back to zero\n",
    "file_object.seek(0)"
   ]
  },
  {
   "cell_type": "code",
   "execution_count": null,
   "metadata": {},
   "outputs": [],
   "source": [
    "#read a line\n",
    "line = file_object.readline()"
   ]
  },
  {
   "cell_type": "code",
   "execution_count": null,
   "metadata": {},
   "outputs": [],
   "source": [
    "# tell file read pointer position\n",
    "print file_object.tell()"
   ]
  },
  {
   "cell_type": "code",
   "execution_count": null,
   "metadata": {},
   "outputs": [],
   "source": [
    "#file close\n",
    "file_object.close()"
   ]
  },
  {
   "cell_type": "markdown",
   "metadata": {},
   "source": [
    "## Line Count"
   ]
  },
  {
   "cell_type": "code",
   "execution_count": null,
   "metadata": {},
   "outputs": [],
   "source": [
    "import os\n",
    "home_path =  os.path.expanduser(\"~\")\n",
    "file_path = os.path.join(home_path, \"python_for_ML_training/data/8M_book.txt\")"
   ]
  },
  {
   "cell_type": "code",
   "execution_count": null,
   "metadata": {},
   "outputs": [],
   "source": [
    "\n",
    "# define a function to count number of lines in a file\n",
    "#input: open file object, with seek position 0\n",
    "#output: number of lines in the file\n",
    "def count_number_of_lines(f):\n",
    "    #read a line\n",
    "    line = f.readline()\n",
    "    #initiate line count\n",
    "    if line:\n",
    "        line_count=1\n",
    "    else:\n",
    "        line_count=0\n",
    "    #iterate through each line of file\n",
    "    while line:\n",
    "        line_count+=1\n",
    "        line = f.readline()\n",
    "    return line_count\n",
    "\n",
    "# Open a file\n",
    "file_object = open(file_path, \"r\")\n",
    "\n",
    "print count_number_of_lines(file_object)\n",
    "\n",
    "#file close\n",
    "file_object.close()"
   ]
  }
 ],
 "metadata": {
  "kernelspec": {
   "display_name": "Python 2",
   "language": "python",
   "name": "python2"
  },
  "language_info": {
   "codemirror_mode": {
    "name": "ipython",
    "version": 2
   },
   "file_extension": ".py",
   "mimetype": "text/x-python",
   "name": "python",
   "nbconvert_exporter": "python",
   "pygments_lexer": "ipython2",
   "version": "2.7.13"
  }
 },
 "nbformat": 4,
 "nbformat_minor": 2
}
